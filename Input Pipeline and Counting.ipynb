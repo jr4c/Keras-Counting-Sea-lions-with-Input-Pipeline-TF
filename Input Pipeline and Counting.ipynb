{
 "cells": [
  {
   "cell_type": "markdown",
   "metadata": {},
   "source": [
    "# Linear regresion for counting"
   ]
  },
  {
   "cell_type": "markdown",
   "metadata": {},
   "source": [
    "### Librarys"
   ]
  },
  {
   "cell_type": "markdown",
   "metadata": {},
   "source": [
    "To read the images the function input_pipeline is going to create a pipeline where tensorflow can read images"
   ]
  },
  {
   "cell_type": "code",
   "execution_count": 1,
   "metadata": {},
   "outputs": [],
   "source": [
    "import tensorflow as tf\n",
    "import numpy as np\n",
    "import pandas as pd \n",
    "import tensorflow.contrib.keras as k"
   ]
  },
  {
   "cell_type": "code",
   "execution_count": 2,
   "metadata": {
    "collapsed": true
   },
   "outputs": [],
   "source": [
    "from sklearn import preprocessing"
   ]
  },
  {
   "cell_type": "markdown",
   "metadata": {},
   "source": [
    "### Hyper parameters"
   ]
  },
  {
   "cell_type": "code",
   "execution_count": 3,
   "metadata": {},
   "outputs": [],
   "source": [
    "N_EPOCHS = 10\n",
    "BATCH_SIZE = 10\n",
    "IMA_HEIGHT = 64\n",
    "#IMA_WIDTH = int(round(IMA_HEIGHT*1.5,0))\n",
    "IMA_WIDTH = 64\n",
    "IMA_DEPTH = 3"
   ]
  },
  {
   "cell_type": "code",
   "execution_count": 4,
   "metadata": {
    "collapsed": true
   },
   "outputs": [],
   "source": [
    "def input_pipeline(paths,batch_size=2):\n",
    "    file_names = tf.train.match_filenames_once(paths)\n",
    "    filename_queues = tf.train.string_input_producer(file_names)\n",
    "    \n",
    "    reader = tf.WholeFileReader(name=\"reader\")\n",
    "    key, value = reader.read(filename_queues)\n",
    "    image = tf.image.decode_jpeg(value)\n",
    "    image = tf.image.resize_images(image,[IMA_HEIGHT,IMA_WIDTH],method=tf.image.ResizeMethod.NEAREST_NEIGHBOR)\n",
    "    image.set_shape((IMA_HEIGHT,IMA_WIDTH,IMA_DEPTH))\n",
    "    image = tf.image.random_flip_up_down(image)\n",
    "    image = tf.image.random_flip_left_right(image)\n",
    "    \n",
    "    batch_size = batch_size\n",
    "    num_process_threads = 2\n",
    "    min_after_dequeue = 1\n",
    "    \n",
    "    labels , images = tf.train.shuffle_batch(\n",
    "        [key,image],\n",
    "        batch_size=batch_size,\n",
    "        num_threads=num_process_threads,\n",
    "        capacity= min_after_dequeue + (3)* batch_size,\n",
    "        min_after_dequeue=min_after_dequeue,name=\"Batch\"\n",
    "    )\n",
    "    return labels, images"
   ]
  },
  {
   "cell_type": "code",
   "execution_count": 5,
   "metadata": {
    "collapsed": true
   },
   "outputs": [],
   "source": [
    "def pixel_normalization(image,maxp=255,minp=0):\n",
    "    return(image - minp)/(maxp - minp)"
   ]
  },
  {
   "cell_type": "code",
   "execution_count": 6,
   "metadata": {},
   "outputs": [],
   "source": [
    "data = pd.read_csv(\"train.csv\",index_col=\"train_id\")\n",
    "scaler = preprocessing.StandardScaler()\n",
    "data = scaler.fit_transform(data)\n",
    "text2Num = lambda label:np.array([data[int(str(text)[10:12])] for text in label],ndmin=2)"
   ]
  },
  {
   "cell_type": "code",
   "execution_count": 7,
   "metadata": {},
   "outputs": [],
   "source": [
    "tf.reset_default_graph()\n",
    "y_pipe, x_pipe = input_pipeline(\"./Train/*.jpg\",BATCH_SIZE)"
   ]
  },
  {
   "cell_type": "code",
   "execution_count": 8,
   "metadata": {},
   "outputs": [],
   "source": [
    "X = []\n",
    "Y = []\n",
    "with tf.Session() as sess:\n",
    "    sess.run(tf.global_variables_initializer())\n",
    "    sess.run(tf.local_variables_initializer())\n",
    "    coord = tf.train.Coordinator()\n",
    "    threads = tf.train.start_queue_runners(sess=sess, coord=coord)\n",
    "    try:\n",
    "        for epoch in range(N_EPOCHS):\n",
    "            batch_targets, batch_features = sess.run([y_pipe,x_pipe])\n",
    "            batch_targets = text2Num(batch_targets)\n",
    "            batch_features =  pixel_normalization(batch_features)\n",
    "            \n",
    "            X.append(batch_features)\n",
    "            Y.append(batch_targets)\n",
    "            \n",
    "    except tf.errors.OutOfRangeError:\n",
    "        print('Done Reading')\n",
    "    finally:\n",
    "        coord.request_stop()\n",
    "    coord.join(threads)\n",
    "X = np.vstack(X)\n",
    "Y = np.vstack(Y)"
   ]
  },
  {
   "cell_type": "code",
   "execution_count": 9,
   "metadata": {},
   "outputs": [
    {
     "data": {
      "text/plain": [
       "array([  7.,   4.,  10.,   1.,   0.])"
      ]
     },
     "execution_count": 9,
     "metadata": {},
     "output_type": "execute_result"
    },
    {
     "data": {
      "image/png": "[encoded data removed]",
      "text/plain": [
       "<matplotlib.figure.Figure at 0x7f2504696a58>"
      ]
     },
     "metadata": {},
     "output_type": "display_data"
    }
   ],
   "source": [
    "%matplotlib inline\n",
    "import matplotlib.pyplot as plt\n",
    "plt.imshow(X[99])\n",
    "scaler.inverse_transform(Y)[99]"
   ]
  },
  {
   "cell_type": "markdown",
   "metadata": {
    "collapsed": true
   },
   "source": [
    "# Keras inplementation"
   ]
  },
  {
   "cell_type": "code",
   "execution_count": 10,
   "metadata": {
    "collapsed": true
   },
   "outputs": [],
   "source": [
    "tf.reset_default_graph()"
   ]
  },
  {
   "cell_type": "code",
   "execution_count": 11,
   "metadata": {},
   "outputs": [],
   "source": [
    "img_shape = list(X.shape[1:])"
   ]
  },
  {
   "cell_type": "code",
   "execution_count": 12,
   "metadata": {},
   "outputs": [],
   "source": [
    "inputs = k.layers.Input(shape=img_shape)\n",
    "\n",
    "net = inputs\n",
    "net = k.layers.Conv2D(9,3,activation=None)(net)\n",
    "net = k.layers.MaxPool2D()(net)\n",
    "net = k.layers.BatchNormalization()(net)\n",
    "net = k.layers.Activation(\"relu\")(net)\n",
    "\n",
    "net = k.layers.Conv2D(3,2,activation=None)(net)\n",
    "net = k.layers.MaxPool2D()(net)\n",
    "net = k.layers.BatchNormalization()(net)\n",
    "net = k.layers.Activation(\"relu\")(net)\n",
    "\n",
    "net = k.layers.Flatten()(net)\n",
    "\n",
    "net = k.layers.Dense(500,activation=\"relu\")(net)\n",
    "net = k.layers.Dense(150,activation=\"relu\")(net)\n",
    "net = k.layers.Dropout(0.6)(net)\n",
    "\n",
    "net = k.layers.Dense(5,activation=\"linear\")(net)\n",
    "\n",
    "outputs = net"
   ]
  },
  {
   "cell_type": "code",
   "execution_count": 13,
   "metadata": {
    "collapsed": true
   },
   "outputs": [],
   "source": [
    "model = k.models.Model(inputs,outputs)"
   ]
  },
  {
   "cell_type": "code",
   "execution_count": 14,
   "metadata": {},
   "outputs": [],
   "source": [
    "model.compile(optimizer=k.optimizers.Adam(),loss=k.losses.mean_absolute_error)"
   ]
  },
  {
   "cell_type": "code",
   "execution_count": 15,
   "metadata": {},
   "outputs": [
    {
     "name": "stdout",
     "output_type": "stream",
     "text": [
      "Train on 70 samples, validate on 30 samples\n",
      "Epoch 1/10\n",
      "70/70 [==============================] - 0s - loss: 1.1004 - val_loss: 0.6405\n",
      "Epoch 2/10\n",
      "70/70 [==============================] - 0s - loss: 0.7770 - val_loss: 0.6300\n",
      "Epoch 3/10\n",
      "70/70 [==============================] - 0s - loss: 0.6295 - val_loss: 0.6299\n",
      "Epoch 4/10\n",
      "70/70 [==============================] - 0s - loss: 0.5234 - val_loss: 0.6232\n",
      "Epoch 5/10\n",
      "70/70 [==============================] - 0s - loss: 0.4710 - val_loss: 0.6245\n",
      "Epoch 6/10\n",
      "70/70 [==============================] - 0s - loss: 0.4657 - val_loss: 0.6100\n",
      "Epoch 7/10\n",
      "70/70 [==============================] - 0s - loss: 0.4298 - val_loss: 0.6008\n",
      "Epoch 8/10\n",
      "70/70 [==============================] - 0s - loss: 0.4506 - val_loss: 0.5992\n",
      "Epoch 9/10\n",
      "70/70 [==============================] - 0s - loss: 0.4312 - val_loss: 0.6036\n",
      "Epoch 10/10\n",
      "70/70 [==============================] - 0s - loss: 0.3991 - val_loss: 0.5943\n"
     ]
    },
    {
     "data": {
      "text/plain": [
       "<tensorflow.contrib.keras.python.keras.callbacks.History at 0x7f24b67bbf60>"
      ]
     },
     "execution_count": 15,
     "metadata": {},
     "output_type": "execute_result"
    }
   ],
   "source": [
    "model.fit(X,Y, epochs=10, batch_size=5,validation_split=0.3)"
   ]
  },
  {
   "cell_type": "code",
   "execution_count": 17,
   "metadata": {},
   "outputs": [
    {
     "data": {
      "text/plain": [
       "array([[  5.,   4.,  35.,  19.,  13.],\n",
       "       [  4.,   3.,  25.,  13.,   9.],\n",
       "       [  4.,   3.,  26.,  13.,  11.],\n",
       "       [  6.,   5.,  43.,  19.,  18.],\n",
       "       [  5.,   4.,  36.,  17.,  13.],\n",
       "       [  5.,   4.,  34.,  17.,  13.],\n",
       "       [  3.,   3.,  27.,  14.,   8.],\n",
       "       [  5.,   4.,  34.,  17.,  14.],\n",
       "       [  4.,   3.,  32.,  16.,  10.],\n",
       "       [  6.,   3.,  40.,  17.,  19.]], dtype=float32)"
      ]
     },
     "execution_count": 17,
     "metadata": {},
     "output_type": "execute_result"
    }
   ],
   "source": [
    "np.round(scaler.inverse_transform(model.predict(X[:10])))"
   ]
  },
  {
   "cell_type": "code",
   "execution_count": 18,
   "metadata": {},
   "outputs": [
    {
     "data": {
      "text/plain": [
       "array([[   1.,    4.,    0.,    0.,    0.],\n",
       "       [   7.,    4.,   10.,    1.,    0.],\n",
       "       [   1.,    0.,    0.,    0.,    0.],\n",
       "       [  13.,   16.,   48.,    3.,   33.],\n",
       "       [   3.,    2.,   25.,   15.,    0.],\n",
       "       [   4.,    7.,  100.,   27.,    0.],\n",
       "       [   0.,    0.,    4.,   15.,    0.],\n",
       "       [  15.,    0.,   85.,   18.,   59.],\n",
       "       [   5.,   10.,   66.,   24.,    0.],\n",
       "       [  28.,    4.,  338.,   47.,  189.]])"
      ]
     },
     "execution_count": 18,
     "metadata": {},
     "output_type": "execute_result"
    }
   ],
   "source": [
    "np.round(scaler.inverse_transform(Y[:10]))"
   ]
  },
  {
   "cell_type": "code",
   "execution_count": 19,
   "metadata": {},
   "outputs": [
    {
     "name": "stdout",
     "output_type": "stream",
     "text": [
      "Train on 70 samples, validate on 30 samples\n",
      "Epoch 1/50\n",
      "70/70 [==============================] - 0s - loss: 0.4058 - val_loss: 0.5917\n",
      "Epoch 2/50\n",
      "70/70 [==============================] - 0s - loss: 0.4057 - val_loss: 0.5838\n",
      "Epoch 3/50\n",
      "70/70 [==============================] - 0s - loss: 0.4148 - val_loss: 0.5721\n",
      "Epoch 4/50\n",
      "70/70 [==============================] - 0s - loss: 0.3570 - val_loss: 0.5430\n",
      "Epoch 5/50\n",
      "70/70 [==============================] - 0s - loss: 0.3739 - val_loss: 0.5396\n",
      "Epoch 6/50\n",
      "70/70 [==============================] - 0s - loss: 0.3704 - val_loss: 0.5497\n",
      "Epoch 7/50\n",
      "70/70 [==============================] - 0s - loss: 0.3981 - val_loss: 0.5263\n",
      "Epoch 8/50\n",
      "70/70 [==============================] - 0s - loss: 0.3629 - val_loss: 0.4919\n",
      "Epoch 9/50\n",
      "70/70 [==============================] - 0s - loss: 0.3841 - val_loss: 0.5291\n",
      "Epoch 10/50\n",
      "70/70 [==============================] - 0s - loss: 0.3511 - val_loss: 0.4915\n",
      "Epoch 11/50\n",
      "70/70 [==============================] - 0s - loss: 0.3571 - val_loss: 0.4636\n",
      "Epoch 12/50\n",
      "70/70 [==============================] - 0s - loss: 0.3062 - val_loss: 0.4328\n",
      "Epoch 13/50\n",
      "70/70 [==============================] - 0s - loss: 0.3104 - val_loss: 0.4433\n",
      "Epoch 14/50\n",
      "70/70 [==============================] - 0s - loss: 0.3635 - val_loss: 0.4276\n",
      "Epoch 15/50\n",
      "70/70 [==============================] - 0s - loss: 0.3267 - val_loss: 0.4457\n",
      "Epoch 16/50\n",
      "70/70 [==============================] - 0s - loss: 0.3280 - val_loss: 0.4083\n",
      "Epoch 17/50\n",
      "70/70 [==============================] - 0s - loss: 0.3354 - val_loss: 0.3878\n",
      "Epoch 18/50\n",
      "70/70 [==============================] - 0s - loss: 0.3392 - val_loss: 0.3919\n",
      "Epoch 19/50\n",
      "70/70 [==============================] - 0s - loss: 0.3555 - val_loss: 0.3728\n",
      "Epoch 20/50\n",
      "70/70 [==============================] - 0s - loss: 0.2863 - val_loss: 0.3271\n",
      "Epoch 21/50\n",
      "70/70 [==============================] - 0s - loss: 0.3118 - val_loss: 0.3635\n",
      "Epoch 22/50\n",
      "70/70 [==============================] - 0s - loss: 0.3261 - val_loss: 0.3376\n",
      "Epoch 23/50\n",
      "70/70 [==============================] - 0s - loss: 0.2859 - val_loss: 0.2740\n",
      "Epoch 24/50\n",
      "70/70 [==============================] - 0s - loss: 0.3271 - val_loss: 0.3421\n",
      "Epoch 25/50\n",
      "70/70 [==============================] - 0s - loss: 0.3020 - val_loss: 0.3414\n",
      "Epoch 26/50\n",
      "70/70 [==============================] - 0s - loss: 0.3388 - val_loss: 0.2892\n",
      "Epoch 27/50\n",
      "70/70 [==============================] - 0s - loss: 0.3263 - val_loss: 0.3313\n",
      "Epoch 28/50\n",
      "70/70 [==============================] - 0s - loss: 0.3327 - val_loss: 0.4062\n",
      "Epoch 29/50\n",
      "70/70 [==============================] - 0s - loss: 0.3458 - val_loss: 0.3374\n",
      "Epoch 30/50\n",
      "70/70 [==============================] - 0s - loss: 0.2890 - val_loss: 0.3115\n",
      "Epoch 31/50\n",
      "70/70 [==============================] - 0s - loss: 0.2830 - val_loss: 0.4141\n",
      "Epoch 32/50\n",
      "70/70 [==============================] - 0s - loss: 0.3643 - val_loss: 0.3660\n",
      "Epoch 33/50\n",
      "70/70 [==============================] - 0s - loss: 0.3058 - val_loss: 0.3806\n",
      "Epoch 34/50\n",
      "70/70 [==============================] - 0s - loss: 0.2669 - val_loss: 0.3325\n",
      "Epoch 35/50\n",
      "70/70 [==============================] - 0s - loss: 0.3430 - val_loss: 0.3681\n",
      "Epoch 36/50\n",
      "70/70 [==============================] - 0s - loss: 0.2988 - val_loss: 0.2972\n",
      "Epoch 37/50\n",
      "70/70 [==============================] - 0s - loss: 0.2834 - val_loss: 0.2424\n",
      "Epoch 38/50\n",
      "70/70 [==============================] - 0s - loss: 0.2818 - val_loss: 0.2621ss: 0.2\n",
      "Epoch 39/50\n",
      "70/70 [==============================] - 0s - loss: 0.2933 - val_loss: 0.2702\n",
      "Epoch 40/50\n",
      "70/70 [==============================] - 0s - loss: 0.3204 - val_loss: 0.2889\n",
      "Epoch 41/50\n",
      "70/70 [==============================] - 0s - loss: 0.2804 - val_loss: 0.3097\n",
      "Epoch 42/50\n",
      "70/70 [==============================] - 0s - loss: 0.2951 - val_loss: 0.2441\n",
      "Epoch 43/50\n",
      "70/70 [==============================] - 0s - loss: 0.2803 - val_loss: 0.2647\n",
      "Epoch 44/50\n",
      "70/70 [==============================] - 0s - loss: 0.2682 - val_loss: 0.2713\n",
      "Epoch 45/50\n",
      "70/70 [==============================] - 0s - loss: 0.2891 - val_loss: 0.2681\n",
      "Epoch 46/50\n",
      "70/70 [==============================] - 0s - loss: 0.3070 - val_loss: 0.2541\n",
      "Epoch 47/50\n",
      "70/70 [==============================] - 0s - loss: 0.2638 - val_loss: 0.1979\n",
      "Epoch 48/50\n",
      "70/70 [==============================] - 0s - loss: 0.2463 - val_loss: 0.1928\n",
      "Epoch 49/50\n",
      "70/70 [==============================] - 0s - loss: 0.2692 - val_loss: 0.1953\n",
      "Epoch 50/50\n",
      "70/70 [==============================] - 0s - loss: 0.2917 - val_loss: 0.2493\n"
     ]
    },
    {
     "data": {
      "text/plain": [
       "<tensorflow.contrib.keras.python.keras.callbacks.History at 0x7f251c9494a8>"
      ]
     },
     "execution_count": 19,
     "metadata": {},
     "output_type": "execute_result"
    }
   ],
   "source": [
    "model.fit(X,Y, epochs=50, batch_size=5,validation_split=0.3)"
   ]
  },
  {
   "cell_type": "code",
   "execution_count": 20,
   "metadata": {},
   "outputs": [
    {
     "data": {
      "text/plain": [
       "array([[   1.,    4.,    5.,    4.,    1.],\n",
       "       [   6.,    4.,   24.,    9.,    4.],\n",
       "       [   4.,    2.,   25.,   12.,    6.],\n",
       "       [  16.,   22.,   51.,   -5.,   49.],\n",
       "       [   4.,    3.,   33.,   15.,    3.],\n",
       "       [   5.,    7.,   81.,   23.,    4.],\n",
       "       [   2.,    2.,   16.,   13.,    6.],\n",
       "       [  19.,    0.,  124.,   21.,   91.],\n",
       "       [   6.,   10.,   67.,   21.,    2.],\n",
       "       [  23.,    4.,  289.,   39.,  155.]], dtype=float32)"
      ]
     },
     "execution_count": 20,
     "metadata": {},
     "output_type": "execute_result"
    }
   ],
   "source": [
    "np.round(scaler.inverse_transform(model.predict(X[:10])))"
   ]
  },
  {
   "cell_type": "code",
   "execution_count": 21,
   "metadata": {},
   "outputs": [
    {
     "data": {
      "text/plain": [
       "array([[   1.,    4.,    0.,    0.,    0.],\n",
       "       [   7.,    4.,   10.,    1.,    0.],\n",
       "       [   1.,    0.,    0.,    0.,    0.],\n",
       "       [  13.,   16.,   48.,    3.,   33.],\n",
       "       [   3.,    2.,   25.,   15.,    0.],\n",
       "       [   4.,    7.,  100.,   27.,    0.],\n",
       "       [   0.,    0.,    4.,   15.,    0.],\n",
       "       [  15.,    0.,   85.,   18.,   59.],\n",
       "       [   5.,   10.,   66.,   24.,    0.],\n",
       "       [  28.,    4.,  338.,   47.,  189.]])"
      ]
     },
     "execution_count": 21,
     "metadata": {},
     "output_type": "execute_result"
    }
   ],
   "source": [
    "np.round(scaler.inverse_transform(Y[:10]))"
   ]
  },
  {
   "cell_type": "code",
   "execution_count": 22,
   "metadata": {},
   "outputs": [
    {
     "name": "stdout",
     "output_type": "stream",
     "text": [
      "Train on 70 samples, validate on 30 samples\n",
      "Epoch 1/250\n",
      "70/70 [==============================] - 0s - loss: 0.3287 - val_loss: 0.2900\n",
      "Epoch 2/250\n",
      "70/70 [==============================] - 0s - loss: 0.2979 - val_loss: 0.2661\n",
      "Epoch 3/250\n",
      "70/70 [==============================] - 0s - loss: 0.2532 - val_loss: 0.1893\n",
      "Epoch 4/250\n",
      "70/70 [==============================] - 0s - loss: 0.3035 - val_loss: 0.2055\n",
      "Epoch 5/250\n",
      "70/70 [==============================] - 0s - loss: 0.2339 - val_loss: 0.2407\n",
      "Epoch 6/250\n",
      "70/70 [==============================] - 0s - loss: 0.2994 - val_loss: 0.2268\n",
      "Epoch 7/250\n",
      "70/70 [==============================] - 0s - loss: 0.2332 - val_loss: 0.2139\n",
      "Epoch 8/250\n",
      "70/70 [==============================] - 0s - loss: 0.2736 - val_loss: 0.2033\n",
      "Epoch 9/250\n",
      "70/70 [==============================] - 0s - loss: 0.2714 - val_loss: 0.2783\n",
      "Epoch 10/250\n",
      "70/70 [==============================] - 0s - loss: 0.2463 - val_loss: 0.2537\n",
      "Epoch 11/250\n",
      "70/70 [==============================] - 0s - loss: 0.2578 - val_loss: 0.2280\n",
      "Epoch 12/250\n",
      "70/70 [==============================] - 0s - loss: 0.2527 - val_loss: 0.3213\n",
      "Epoch 13/250\n",
      "70/70 [==============================] - 0s - loss: 0.2548 - val_loss: 0.3263\n",
      "Epoch 14/250\n",
      "70/70 [==============================] - 0s - loss: 0.2478 - val_loss: 0.2514\n",
      "Epoch 15/250\n",
      "70/70 [==============================] - 0s - loss: 0.2693 - val_loss: 0.2274\n",
      "Epoch 16/250\n",
      "70/70 [==============================] - 0s - loss: 0.2548 - val_loss: 0.2247\n",
      "Epoch 17/250\n",
      "70/70 [==============================] - 0s - loss: 0.2449 - val_loss: 0.1837\n",
      "Epoch 18/250\n",
      "70/70 [==============================] - 0s - loss: 0.2615 - val_loss: 0.2406\n",
      "Epoch 19/250\n",
      "70/70 [==============================] - 0s - loss: 0.2544 - val_loss: 0.3608\n",
      "Epoch 20/250\n",
      "70/70 [==============================] - 0s - loss: 0.3174 - val_loss: 0.2756\n",
      "Epoch 21/250\n",
      "70/70 [==============================] - 0s - loss: 0.2777 - val_loss: 0.2484\n",
      "Epoch 22/250\n",
      "70/70 [==============================] - 0s - loss: 0.2785 - val_loss: 0.3230\n",
      "Epoch 23/250\n",
      "70/70 [==============================] - 0s - loss: 0.2417 - val_loss: 0.2926\n",
      "Epoch 24/250\n",
      "70/70 [==============================] - 0s - loss: 0.2572 - val_loss: 0.2099\n",
      "Epoch 25/250\n",
      "70/70 [==============================] - 0s - loss: 0.2591 - val_loss: 0.1972\n",
      "Epoch 26/250\n",
      "70/70 [==============================] - 0s - loss: 0.2697 - val_loss: 0.1872\n",
      "Epoch 27/250\n",
      "70/70 [==============================] - 0s - loss: 0.2097 - val_loss: 0.1983\n",
      "Epoch 28/250\n",
      "70/70 [==============================] - 0s - loss: 0.2634 - val_loss: 0.2119\n",
      "Epoch 29/250\n",
      "70/70 [==============================] - 0s - loss: 0.2303 - val_loss: 0.2808\n",
      "Epoch 30/250\n",
      "70/70 [==============================] - 0s - loss: 0.2331 - val_loss: 0.3220\n",
      "Epoch 31/250\n",
      "70/70 [==============================] - 0s - loss: 0.2428 - val_loss: 0.2248\n",
      "Epoch 32/250\n",
      "70/70 [==============================] - 0s - loss: 0.2504 - val_loss: 0.1684\n",
      "Epoch 33/250\n",
      "70/70 [==============================] - 0s - loss: 0.2393 - val_loss: 0.1777\n",
      "Epoch 34/250\n",
      "70/70 [==============================] - 0s - loss: 0.2895 - val_loss: 0.1805ss: 0.290\n",
      "Epoch 35/250\n",
      "70/70 [==============================] - 0s - loss: 0.2282 - val_loss: 0.2474\n",
      "Epoch 36/250\n",
      "70/70 [==============================] - 0s - loss: 0.3466 - val_loss: 0.1987\n",
      "Epoch 37/250\n",
      "70/70 [==============================] - 0s - loss: 0.2559 - val_loss: 0.2250\n",
      "Epoch 38/250\n",
      "70/70 [==============================] - 0s - loss: 0.2490 - val_loss: 0.2174\n",
      "Epoch 39/250\n",
      "70/70 [==============================] - 0s - loss: 0.2400 - val_loss: 0.2153\n",
      "Epoch 40/250\n",
      "70/70 [==============================] - 0s - loss: 0.2359 - val_loss: 0.1779\n",
      "Epoch 41/250\n",
      "70/70 [==============================] - 0s - loss: 0.2510 - val_loss: 0.2123\n",
      "Epoch 42/250\n",
      "70/70 [==============================] - 0s - loss: 0.2280 - val_loss: 0.2965\n",
      "Epoch 43/250\n",
      "70/70 [==============================] - 0s - loss: 0.2956 - val_loss: 0.2556\n",
      "Epoch 44/250\n",
      "70/70 [==============================] - 0s - loss: 0.2608 - val_loss: 0.2263\n",
      "Epoch 45/250\n",
      "70/70 [==============================] - 0s - loss: 0.2135 - val_loss: 0.1817\n",
      "Epoch 46/250\n",
      "70/70 [==============================] - 0s - loss: 0.2549 - val_loss: 0.2617\n",
      "Epoch 47/250\n",
      "70/70 [==============================] - 0s - loss: 0.2300 - val_loss: 0.3273\n",
      "Epoch 48/250\n",
      "70/70 [==============================] - 0s - loss: 0.2432 - val_loss: 0.3412\n",
      "Epoch 49/250\n",
      "70/70 [==============================] - 0s - loss: 0.2279 - val_loss: 0.2857\n",
      "Epoch 50/250\n",
      "70/70 [==============================] - 0s - loss: 0.2876 - val_loss: 0.2298\n",
      "Epoch 51/250\n",
      "70/70 [==============================] - 0s - loss: 0.2816 - val_loss: 0.3261\n",
      "Epoch 52/250\n",
      "70/70 [==============================] - 0s - loss: 0.2531 - val_loss: 0.2242\n",
      "Epoch 53/250\n",
      "70/70 [==============================] - 0s - loss: 0.2434 - val_loss: 0.2153\n",
      "Epoch 54/250\n",
      "70/70 [==============================] - 0s - loss: 0.2734 - val_loss: 0.2219\n",
      "Epoch 55/250\n",
      "70/70 [==============================] - 0s - loss: 0.2549 - val_loss: 0.2058\n",
      "Epoch 56/250\n",
      "70/70 [==============================] - 0s - loss: 0.2127 - val_loss: 0.2169\n",
      "Epoch 57/250\n",
      "70/70 [==============================] - 0s - loss: 0.2100 - val_loss: 0.2757\n",
      "Epoch 58/250\n",
      "70/70 [==============================] - 0s - loss: 0.2497 - val_loss: 0.2053\n",
      "Epoch 59/250\n",
      "70/70 [==============================] - 0s - loss: 0.2133 - val_loss: 0.3115\n",
      "Epoch 60/250\n",
      "70/70 [==============================] - 0s - loss: 0.2278 - val_loss: 0.2886\n",
      "Epoch 61/250\n",
      "70/70 [==============================] - 0s - loss: 0.2247 - val_loss: 0.2103\n",
      "Epoch 62/250\n",
      "70/70 [==============================] - 0s - loss: 0.2659 - val_loss: 0.2820\n",
      "Epoch 63/250\n",
      "70/70 [==============================] - 0s - loss: 0.2584 - val_loss: 0.2993\n",
      "Epoch 64/250\n",
      "70/70 [==============================] - 0s - loss: 0.1675 - val_loss: 0.2607\n",
      "Epoch 65/250\n",
      "70/70 [==============================] - 0s - loss: 0.2404 - val_loss: 0.2069\n",
      "Epoch 66/250\n",
      "70/70 [==============================] - 0s - loss: 0.2257 - val_loss: 0.1714\n",
      "Epoch 67/250\n",
      "70/70 [==============================] - 0s - loss: 0.1754 - val_loss: 0.2147\n",
      "Epoch 68/250\n",
      "70/70 [==============================] - 0s - loss: 0.2196 - val_loss: 0.1817\n",
      "Epoch 69/250\n",
      "70/70 [==============================] - 0s - loss: 0.1917 - val_loss: 0.2431\n",
      "Epoch 70/250\n",
      "70/70 [==============================] - 0s - loss: 0.2562 - val_loss: 0.2120\n",
      "Epoch 71/250\n",
      "70/70 [==============================] - 0s - loss: 0.2531 - val_loss: 0.1717\n",
      "Epoch 72/250\n",
      "70/70 [==============================] - 0s - loss: 0.2378 - val_loss: 0.2490\n",
      "Epoch 73/250\n",
      "70/70 [==============================] - 0s - loss: 0.1918 - val_loss: 0.1990\n",
      "Epoch 74/250\n",
      "70/70 [==============================] - 0s - loss: 0.2419 - val_loss: 0.2042\n",
      "Epoch 75/250\n",
      "70/70 [==============================] - 0s - loss: 0.2119 - val_loss: 0.2294\n",
      "Epoch 76/250\n",
      "70/70 [==============================] - ETA: 0s - loss: 0.220 - 0s - loss: 0.2277 - val_loss: 0.1960\n",
      "Epoch 77/250\n",
      "70/70 [==============================] - 0s - loss: 0.2079 - val_loss: 0.1625\n",
      "Epoch 78/250\n",
      "70/70 [==============================] - 0s - loss: 0.2493 - val_loss: 0.1860\n",
      "Epoch 79/250\n",
      "70/70 [==============================] - 0s - loss: 0.2207 - val_loss: 0.1688\n",
      "Epoch 80/250\n",
      "70/70 [==============================] - 0s - loss: 0.2392 - val_loss: 0.1814\n",
      "Epoch 81/250\n",
      "70/70 [==============================] - 0s - loss: 0.1757 - val_loss: 0.1529\n",
      "Epoch 82/250\n",
      "70/70 [==============================] - 0s - loss: 0.2231 - val_loss: 0.1747\n",
      "Epoch 83/250\n",
      "70/70 [==============================] - 0s - loss: 0.1709 - val_loss: 0.2270\n",
      "Epoch 84/250\n",
      "70/70 [==============================] - 0s - loss: 0.2011 - val_loss: 0.3070\n",
      "Epoch 85/250\n",
      "70/70 [==============================] - 0s - loss: 0.1958 - val_loss: 0.2712\n",
      "Epoch 86/250\n",
      "70/70 [==============================] - 0s - loss: 0.2113 - val_loss: 0.2317\n",
      "Epoch 87/250\n",
      "70/70 [==============================] - 0s - loss: 0.2211 - val_loss: 0.1939\n",
      "Epoch 88/250\n",
      "70/70 [==============================] - 0s - loss: 0.2586 - val_loss: 0.1846\n",
      "Epoch 89/250\n",
      "70/70 [==============================] - 0s - loss: 0.2250 - val_loss: 0.1856\n",
      "Epoch 90/250\n"
     ]
    },
    {
     "name": "stdout",
     "output_type": "stream",
     "text": [
      "70/70 [==============================] - 0s - loss: 0.2406 - val_loss: 0.1720\n",
      "Epoch 91/250\n",
      "70/70 [==============================] - 0s - loss: 0.2205 - val_loss: 0.2555\n",
      "Epoch 92/250\n",
      "70/70 [==============================] - 0s - loss: 0.2226 - val_loss: 0.1971\n",
      "Epoch 93/250\n",
      "70/70 [==============================] - 0s - loss: 0.2187 - val_loss: 0.2262\n",
      "Epoch 94/250\n",
      "70/70 [==============================] - 0s - loss: 0.2115 - val_loss: 0.2859\n",
      "Epoch 95/250\n",
      "70/70 [==============================] - 0s - loss: 0.2274 - val_loss: 0.2280\n",
      "Epoch 96/250\n",
      "70/70 [==============================] - 0s - loss: 0.2207 - val_loss: 0.2857\n",
      "Epoch 97/250\n",
      "70/70 [==============================] - 0s - loss: 0.2395 - val_loss: 0.1813\n",
      "Epoch 98/250\n",
      "70/70 [==============================] - 0s - loss: 0.3000 - val_loss: 0.2128\n",
      "Epoch 99/250\n",
      "70/70 [==============================] - 0s - loss: 0.1739 - val_loss: 0.2032\n",
      "Epoch 100/250\n",
      "70/70 [==============================] - 0s - loss: 0.2524 - val_loss: 0.1673\n",
      "Epoch 101/250\n",
      "70/70 [==============================] - 0s - loss: 0.2048 - val_loss: 0.2557\n",
      "Epoch 102/250\n",
      "70/70 [==============================] - 0s - loss: 0.2095 - val_loss: 0.1655\n",
      "Epoch 103/250\n",
      "70/70 [==============================] - 0s - loss: 0.2243 - val_loss: 0.2269\n",
      "Epoch 104/250\n",
      "70/70 [==============================] - 0s - loss: 0.2208 - val_loss: 0.2765\n",
      "Epoch 105/250\n",
      "70/70 [==============================] - 0s - loss: 0.2201 - val_loss: 0.2386\n",
      "Epoch 106/250\n",
      "70/70 [==============================] - 0s - loss: 0.2050 - val_loss: 0.1998\n",
      "Epoch 107/250\n",
      "70/70 [==============================] - 0s - loss: 0.2363 - val_loss: 0.1779\n",
      "Epoch 108/250\n",
      "70/70 [==============================] - 0s - loss: 0.1963 - val_loss: 0.1885\n",
      "Epoch 109/250\n",
      "70/70 [==============================] - 0s - loss: 0.1824 - val_loss: 0.1606\n",
      "Epoch 110/250\n",
      "70/70 [==============================] - 0s - loss: 0.1997 - val_loss: 0.1571\n",
      "Epoch 111/250\n",
      "70/70 [==============================] - 0s - loss: 0.2466 - val_loss: 0.1758\n",
      "Epoch 112/250\n",
      "70/70 [==============================] - 0s - loss: 0.1923 - val_loss: 0.1711\n",
      "Epoch 113/250\n",
      "70/70 [==============================] - 0s - loss: 0.2149 - val_loss: 0.1906\n",
      "Epoch 114/250\n",
      "70/70 [==============================] - 0s - loss: 0.2193 - val_loss: 0.1726\n",
      "Epoch 115/250\n",
      "70/70 [==============================] - 0s - loss: 0.2021 - val_loss: 0.1660\n",
      "Epoch 116/250\n",
      "70/70 [==============================] - 0s - loss: 0.1938 - val_loss: 0.1877\n",
      "Epoch 117/250\n",
      "70/70 [==============================] - 0s - loss: 0.2278 - val_loss: 0.1764\n",
      "Epoch 118/250\n",
      "70/70 [==============================] - 0s - loss: 0.2636 - val_loss: 0.2775\n",
      "Epoch 119/250\n",
      "70/70 [==============================] - 0s - loss: 0.2248 - val_loss: 0.1867\n",
      "Epoch 120/250\n",
      "70/70 [==============================] - 0s - loss: 0.2091 - val_loss: 0.1804\n",
      "Epoch 121/250\n",
      "70/70 [==============================] - 0s - loss: 0.2247 - val_loss: 0.1662\n",
      "Epoch 122/250\n",
      "70/70 [==============================] - 0s - loss: 0.2002 - val_loss: 0.1558\n",
      "Epoch 123/250\n",
      "70/70 [==============================] - 0s - loss: 0.1645 - val_loss: 0.1902\n",
      "Epoch 124/250\n",
      "70/70 [==============================] - 0s - loss: 0.2101 - val_loss: 0.2160\n",
      "Epoch 125/250\n",
      "70/70 [==============================] - 0s - loss: 0.2375 - val_loss: 0.2284\n",
      "Epoch 126/250\n",
      "70/70 [==============================] - 0s - loss: 0.2455 - val_loss: 0.2190\n",
      "Epoch 127/250\n",
      "70/70 [==============================] - 0s - loss: 0.1926 - val_loss: 0.1665\n",
      "Epoch 128/250\n",
      "70/70 [==============================] - 0s - loss: 0.1951 - val_loss: 0.1765\n",
      "Epoch 129/250\n",
      "70/70 [==============================] - 0s - loss: 0.2034 - val_loss: 0.1526\n",
      "Epoch 130/250\n",
      "70/70 [==============================] - 0s - loss: 0.2243 - val_loss: 0.1605\n",
      "Epoch 131/250\n",
      "70/70 [==============================] - 0s - loss: 0.1944 - val_loss: 0.2033\n",
      "Epoch 132/250\n",
      "70/70 [==============================] - 0s - loss: 0.2316 - val_loss: 0.2179\n",
      "Epoch 133/250\n",
      "70/70 [==============================] - 0s - loss: 0.2063 - val_loss: 0.1569\n",
      "Epoch 134/250\n",
      "70/70 [==============================] - 0s - loss: 0.2166 - val_loss: 0.1678\n",
      "Epoch 135/250\n",
      "70/70 [==============================] - 0s - loss: 0.1968 - val_loss: 0.1848\n",
      "Epoch 136/250\n",
      "70/70 [==============================] - 0s - loss: 0.2173 - val_loss: 0.1718\n",
      "Epoch 137/250\n",
      "70/70 [==============================] - 0s - loss: 0.1972 - val_loss: 0.1980\n",
      "Epoch 138/250\n",
      "70/70 [==============================] - 0s - loss: 0.2187 - val_loss: 0.1831\n",
      "Epoch 139/250\n",
      "70/70 [==============================] - 0s - loss: 0.1874 - val_loss: 0.1845\n",
      "Epoch 140/250\n",
      "70/70 [==============================] - 0s - loss: 0.1777 - val_loss: 0.1617\n",
      "Epoch 141/250\n",
      "70/70 [==============================] - 0s - loss: 0.2214 - val_loss: 0.1734\n",
      "Epoch 142/250\n",
      "70/70 [==============================] - 0s - loss: 0.2011 - val_loss: 0.2938\n",
      "Epoch 143/250\n",
      "70/70 [==============================] - 0s - loss: 0.1960 - val_loss: 0.2282\n",
      "Epoch 144/250\n",
      "70/70 [==============================] - 0s - loss: 0.1854 - val_loss: 0.2183\n",
      "Epoch 145/250\n",
      "70/70 [==============================] - 0s - loss: 0.2130 - val_loss: 0.2388\n",
      "Epoch 146/250\n",
      "70/70 [==============================] - 0s - loss: 0.1905 - val_loss: 0.2320\n",
      "Epoch 147/250\n",
      "70/70 [==============================] - 0s - loss: 0.2144 - val_loss: 0.2598\n",
      "Epoch 148/250\n",
      "70/70 [==============================] - 0s - loss: 0.2440 - val_loss: 0.1880\n",
      "Epoch 149/250\n",
      "70/70 [==============================] - 0s - loss: 0.1883 - val_loss: 0.2110\n",
      "Epoch 150/250\n",
      "70/70 [==============================] - 0s - loss: 0.2287 - val_loss: 0.3025\n",
      "Epoch 151/250\n",
      "70/70 [==============================] - 0s - loss: 0.2004 - val_loss: 0.2298\n",
      "Epoch 152/250\n",
      "70/70 [==============================] - 0s - loss: 0.2079 - val_loss: 0.2583\n",
      "Epoch 153/250\n",
      "70/70 [==============================] - 0s - loss: 0.2126 - val_loss: 0.3207\n",
      "Epoch 154/250\n",
      "70/70 [==============================] - 0s - loss: 0.2112 - val_loss: 0.2248\n",
      "Epoch 155/250\n",
      "70/70 [==============================] - 0s - loss: 0.2200 - val_loss: 0.2083\n",
      "Epoch 156/250\n",
      "70/70 [==============================] - 0s - loss: 0.1983 - val_loss: 0.1977\n",
      "Epoch 157/250\n",
      "70/70 [==============================] - 0s - loss: 0.2198 - val_loss: 0.2708\n",
      "Epoch 158/250\n",
      "70/70 [==============================] - 0s - loss: 0.1707 - val_loss: 0.2051\n",
      "Epoch 159/250\n",
      "70/70 [==============================] - 0s - loss: 0.2107 - val_loss: 0.2506\n",
      "Epoch 160/250\n",
      "70/70 [==============================] - 0s - loss: 0.2038 - val_loss: 0.2184\n",
      "Epoch 161/250\n",
      "70/70 [==============================] - 0s - loss: 0.1799 - val_loss: 0.2167\n",
      "Epoch 162/250\n",
      "70/70 [==============================] - 0s - loss: 0.2119 - val_loss: 0.1966\n",
      "Epoch 163/250\n",
      "70/70 [==============================] - 0s - loss: 0.2075 - val_loss: 0.2138\n",
      "Epoch 164/250\n",
      "70/70 [==============================] - 0s - loss: 0.2182 - val_loss: 0.2713\n",
      "Epoch 165/250\n",
      "70/70 [==============================] - 0s - loss: 0.1736 - val_loss: 0.2550\n",
      "Epoch 166/250\n",
      "70/70 [==============================] - 0s - loss: 0.2115 - val_loss: 0.2082\n",
      "Epoch 167/250\n",
      "70/70 [==============================] - 0s - loss: 0.2286 - val_loss: 0.1817\n",
      "Epoch 168/250\n",
      "70/70 [==============================] - 0s - loss: 0.2012 - val_loss: 0.2322\n",
      "Epoch 169/250\n",
      "70/70 [==============================] - 0s - loss: 0.2290 - val_loss: 0.2174\n",
      "Epoch 170/250\n",
      "70/70 [==============================] - 0s - loss: 0.2297 - val_loss: 0.1852\n",
      "Epoch 171/250\n",
      "70/70 [==============================] - 0s - loss: 0.1915 - val_loss: 0.3352\n",
      "Epoch 172/250\n",
      "70/70 [==============================] - 0s - loss: 0.2216 - val_loss: 0.2707\n",
      "Epoch 173/250\n",
      "70/70 [==============================] - 0s - loss: 0.2058 - val_loss: 0.1960\n",
      "Epoch 174/250\n",
      "70/70 [==============================] - 0s - loss: 0.2079 - val_loss: 0.2194\n",
      "Epoch 175/250\n",
      "70/70 [==============================] - 0s - loss: 0.2052 - val_loss: 0.1994\n",
      "Epoch 176/250\n",
      "70/70 [==============================] - 0s - loss: 0.1924 - val_loss: 0.1879\n",
      "Epoch 177/250\n",
      "70/70 [==============================] - 0s - loss: 0.2134 - val_loss: 0.2736\n",
      "Epoch 178/250\n",
      "70/70 [==============================] - 0s - loss: 0.2141 - val_loss: 0.2255\n",
      "Epoch 179/250\n"
     ]
    },
    {
     "name": "stdout",
     "output_type": "stream",
     "text": [
      "70/70 [==============================] - 0s - loss: 0.1888 - val_loss: 0.1889\n",
      "Epoch 180/250\n",
      "70/70 [==============================] - 0s - loss: 0.1818 - val_loss: 0.1873\n",
      "Epoch 181/250\n",
      "70/70 [==============================] - 0s - loss: 0.2240 - val_loss: 0.1823\n",
      "Epoch 182/250\n",
      "70/70 [==============================] - 0s - loss: 0.2028 - val_loss: 0.2209\n",
      "Epoch 183/250\n",
      "70/70 [==============================] - 0s - loss: 0.2198 - val_loss: 0.1867\n",
      "Epoch 184/250\n",
      "70/70 [==============================] - 0s - loss: 0.1911 - val_loss: 0.1964\n",
      "Epoch 185/250\n",
      "70/70 [==============================] - 0s - loss: 0.1892 - val_loss: 0.2903\n",
      "Epoch 186/250\n",
      "70/70 [==============================] - 0s - loss: 0.1812 - val_loss: 0.2553\n",
      "Epoch 187/250\n",
      "70/70 [==============================] - 0s - loss: 0.1713 - val_loss: 0.2018\n",
      "Epoch 188/250\n",
      "70/70 [==============================] - 0s - loss: 0.1648 - val_loss: 0.2336\n",
      "Epoch 189/250\n",
      "70/70 [==============================] - 0s - loss: 0.2070 - val_loss: 0.2341\n",
      "Epoch 190/250\n",
      "70/70 [==============================] - 0s - loss: 0.1779 - val_loss: 0.2610\n",
      "Epoch 191/250\n",
      "70/70 [==============================] - 0s - loss: 0.2015 - val_loss: 0.2111\n",
      "Epoch 192/250\n",
      "70/70 [==============================] - 0s - loss: 0.2253 - val_loss: 0.1816\n",
      "Epoch 193/250\n",
      "70/70 [==============================] - 0s - loss: 0.1941 - val_loss: 0.2136\n",
      "Epoch 194/250\n",
      "70/70 [==============================] - 0s - loss: 0.2223 - val_loss: 0.1912\n",
      "Epoch 195/250\n",
      "70/70 [==============================] - 0s - loss: 0.1618 - val_loss: 0.1774\n",
      "Epoch 196/250\n",
      "70/70 [==============================] - 0s - loss: 0.1968 - val_loss: 0.1916\n",
      "Epoch 197/250\n",
      "70/70 [==============================] - 0s - loss: 0.1768 - val_loss: 0.2340\n",
      "Epoch 198/250\n",
      "70/70 [==============================] - 0s - loss: 0.2058 - val_loss: 0.2123\n",
      "Epoch 199/250\n",
      "70/70 [==============================] - 0s - loss: 0.1830 - val_loss: 0.1952\n",
      "Epoch 200/250\n",
      "70/70 [==============================] - 0s - loss: 0.1954 - val_loss: 0.2197\n",
      "Epoch 201/250\n",
      "70/70 [==============================] - 0s - loss: 0.2377 - val_loss: 0.2456\n",
      "Epoch 202/250\n",
      "70/70 [==============================] - 0s - loss: 0.1937 - val_loss: 0.1871\n",
      "Epoch 203/250\n",
      "70/70 [==============================] - 0s - loss: 0.2293 - val_loss: 0.2528\n",
      "Epoch 204/250\n",
      "70/70 [==============================] - 0s - loss: 0.1646 - val_loss: 0.2106\n",
      "Epoch 205/250\n",
      "70/70 [==============================] - 0s - loss: 0.1891 - val_loss: 0.1948\n",
      "Epoch 206/250\n",
      "70/70 [==============================] - 0s - loss: 0.1691 - val_loss: 0.2973\n",
      "Epoch 207/250\n",
      "70/70 [==============================] - 0s - loss: 0.1899 - val_loss: 0.2147\n",
      "Epoch 208/250\n",
      "70/70 [==============================] - 0s - loss: 0.2050 - val_loss: 0.2009\n",
      "Epoch 209/250\n",
      "70/70 [==============================] - 0s - loss: 0.2003 - val_loss: 0.2400\n",
      "Epoch 210/250\n",
      "70/70 [==============================] - 0s - loss: 0.1604 - val_loss: 0.1918\n",
      "Epoch 211/250\n",
      "70/70 [==============================] - 0s - loss: 0.1825 - val_loss: 0.1993\n",
      "Epoch 212/250\n",
      "70/70 [==============================] - 0s - loss: 0.2087 - val_loss: 0.2115\n",
      "Epoch 213/250\n",
      "70/70 [==============================] - 0s - loss: 0.1591 - val_loss: 0.2226\n",
      "Epoch 214/250\n",
      "70/70 [==============================] - 0s - loss: 0.1813 - val_loss: 0.2634\n",
      "Epoch 215/250\n",
      "70/70 [==============================] - 0s - loss: 0.1809 - val_loss: 0.1491\n",
      "Epoch 216/250\n",
      "70/70 [==============================] - 0s - loss: 0.2463 - val_loss: 0.1916\n",
      "Epoch 217/250\n",
      "70/70 [==============================] - 0s - loss: 0.1800 - val_loss: 0.2264\n",
      "Epoch 218/250\n",
      "70/70 [==============================] - 0s - loss: 0.1802 - val_loss: 0.2275\n",
      "Epoch 219/250\n",
      "70/70 [==============================] - 0s - loss: 0.1814 - val_loss: 0.1882\n",
      "Epoch 220/250\n",
      "70/70 [==============================] - 0s - loss: 0.2160 - val_loss: 0.2059\n",
      "Epoch 221/250\n",
      "70/70 [==============================] - 0s - loss: 0.1719 - val_loss: 0.2078\n",
      "Epoch 222/250\n",
      "70/70 [==============================] - 0s - loss: 0.2205 - val_loss: 0.1801\n",
      "Epoch 223/250\n",
      "70/70 [==============================] - 0s - loss: 0.1933 - val_loss: 0.3084\n",
      "Epoch 224/250\n",
      "70/70 [==============================] - 0s - loss: 0.2124 - val_loss: 0.1669\n",
      "Epoch 225/250\n",
      "70/70 [==============================] - 0s - loss: 0.1746 - val_loss: 0.2084\n",
      "Epoch 226/250\n",
      "70/70 [==============================] - 0s - loss: 0.1985 - val_loss: 0.2155\n",
      "Epoch 227/250\n",
      "70/70 [==============================] - 0s - loss: 0.1913 - val_loss: 0.1701\n",
      "Epoch 228/250\n",
      "70/70 [==============================] - 0s - loss: 0.1734 - val_loss: 0.1637\n",
      "Epoch 229/250\n",
      "70/70 [==============================] - 0s - loss: 0.2026 - val_loss: 0.1967\n",
      "Epoch 230/250\n",
      "70/70 [==============================] - 0s - loss: 0.2007 - val_loss: 0.1893\n",
      "Epoch 231/250\n",
      "70/70 [==============================] - 0s - loss: 0.1894 - val_loss: 0.2080\n",
      "Epoch 232/250\n",
      "70/70 [==============================] - 0s - loss: 0.2062 - val_loss: 0.1877\n",
      "Epoch 233/250\n",
      "70/70 [==============================] - 0s - loss: 0.2033 - val_loss: 0.1636\n",
      "Epoch 234/250\n",
      "70/70 [==============================] - 0s - loss: 0.2058 - val_loss: 0.2199\n",
      "Epoch 235/250\n",
      "70/70 [==============================] - 0s - loss: 0.1945 - val_loss: 0.2012\n",
      "Epoch 236/250\n",
      "70/70 [==============================] - 0s - loss: 0.1945 - val_loss: 0.1724\n",
      "Epoch 237/250\n",
      "70/70 [==============================] - 0s - loss: 0.2007 - val_loss: 0.2321\n",
      "Epoch 238/250\n",
      "70/70 [==============================] - 0s - loss: 0.1720 - val_loss: 0.2310\n",
      "Epoch 239/250\n",
      "70/70 [==============================] - 0s - loss: 0.1747 - val_loss: 0.2535\n",
      "Epoch 240/250\n",
      "70/70 [==============================] - 0s - loss: 0.1848 - val_loss: 0.2536\n",
      "Epoch 241/250\n",
      "70/70 [==============================] - 0s - loss: 0.1734 - val_loss: 0.2133\n",
      "Epoch 242/250\n",
      "70/70 [==============================] - 0s - loss: 0.2070 - val_loss: 0.1767\n",
      "Epoch 243/250\n",
      "70/70 [==============================] - 0s - loss: 0.1751 - val_loss: 0.2025\n",
      "Epoch 244/250\n",
      "70/70 [==============================] - 0s - loss: 0.1688 - val_loss: 0.1710\n",
      "Epoch 245/250\n",
      "70/70 [==============================] - 0s - loss: 0.1585 - val_loss: 0.1358\n",
      "Epoch 246/250\n",
      "70/70 [==============================] - 0s - loss: 0.1897 - val_loss: 0.2034\n",
      "Epoch 247/250\n",
      "70/70 [==============================] - 0s - loss: 0.1844 - val_loss: 0.2088\n",
      "Epoch 248/250\n",
      "70/70 [==============================] - 0s - loss: 0.2031 - val_loss: 0.1656\n",
      "Epoch 249/250\n",
      "70/70 [==============================] - 0s - loss: 0.1955 - val_loss: 0.1873\n",
      "Epoch 250/250\n",
      "70/70 [==============================] - 0s - loss: 0.1931 - val_loss: 0.1774\n"
     ]
    },
    {
     "data": {
      "text/plain": [
       "<tensorflow.contrib.keras.python.keras.callbacks.History at 0x7f24b67764e0>"
      ]
     },
     "execution_count": 22,
     "metadata": {},
     "output_type": "execute_result"
    }
   ],
   "source": [
    "model.fit(X,Y, epochs=250, batch_size=5,validation_split=0.3)"
   ]
  },
  {
   "cell_type": "code",
   "execution_count": 23,
   "metadata": {},
   "outputs": [
    {
     "data": {
      "text/plain": [
       "array([[   2.,    4.,    7.,    3.,    0.],\n",
       "       [   6.,    4.,   19.,    6.,    0.],\n",
       "       [   2.,    1.,    5.,    5.,   -0.],\n",
       "       [  12.,   14.,   50.,    6.,   31.],\n",
       "       [   3.,    2.,   24.,   15.,   -0.],\n",
       "       [   4.,    6.,   69.,   22.,    0.],\n",
       "       [   0.,    0.,    6.,   15.,    0.],\n",
       "       [  14.,    0.,   86.,   18.,   58.],\n",
       "       [   5.,    9.,   58.,   21.,   -0.],\n",
       "       [  27.,    4.,  321.,   46.,  182.]], dtype=float32)"
      ]
     },
     "execution_count": 23,
     "metadata": {},
     "output_type": "execute_result"
    }
   ],
   "source": [
    "np.round(scaler.inverse_transform(model.predict(X[:10])))"
   ]
  },
  {
   "cell_type": "code",
   "execution_count": 24,
   "metadata": {},
   "outputs": [
    {
     "data": {
      "text/plain": [
       "array([[   1.,    4.,    0.,    0.,    0.],\n",
       "       [   7.,    4.,   10.,    1.,    0.],\n",
       "       [   1.,    0.,    0.,    0.,    0.],\n",
       "       [  13.,   16.,   48.,    3.,   33.],\n",
       "       [   3.,    2.,   25.,   15.,    0.],\n",
       "       [   4.,    7.,  100.,   27.,    0.],\n",
       "       [   0.,    0.,    4.,   15.,    0.],\n",
       "       [  15.,    0.,   85.,   18.,   59.],\n",
       "       [   5.,   10.,   66.,   24.,    0.],\n",
       "       [  28.,    4.,  338.,   47.,  189.]])"
      ]
     },
     "execution_count": 24,
     "metadata": {},
     "output_type": "execute_result"
    }
   ],
   "source": [
    "np.round(scaler.inverse_transform(Y[:10]))"
   ]
  }
 ],
 "metadata": {
  "kernelspec": {
   "display_name": "Python [conda env:nb35]",
   "language": "python",
   "name": "conda-env-nb35-py"
  },
  "language_info": {
   "codemirror_mode": {
    "name": "ipython",
    "version": 3
   },
   "file_extension": ".py",
   "mimetype": "text/x-python",
   "name": "python",
   "nbconvert_exporter": "python",
   "pygments_lexer": "ipython3",
   "version": "3.5.4"
  }
 },
 "nbformat": 4,
 "nbformat_minor": 2
}
